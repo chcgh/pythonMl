{
 "cells": [
  {
   "cell_type": "markdown",
   "id": "199f4f0c",
   "metadata": {},
   "source": [
    "KNNImputer可以更便捷地处理缺失值，并且与直接用均值、中位数相比更为可靠。利用“近朱者赤”的KNN算法原理，这种插补方法借助其他特征的分布来对目标特征进行缺失值填充。\n",
    "\n",
    "<br><br>\n",
    "先来一个小例子开开胃，data中第二个样本存在缺失值。"
   ]
  },
  {
   "cell_type": "code",
   "execution_count": 1,
   "id": "6b9ee18b",
   "metadata": {},
   "outputs": [],
   "source": [
    "import numpy as np\n",
    "from sklearn.impute import KNNImputer"
   ]
  },
  {
   "cell_type": "code",
   "execution_count": 7,
   "id": "42b88b00",
   "metadata": {},
   "outputs": [],
   "source": [
    "data = [[2, 4, 8], [3, np.nan, 7], [5, 8, 3], [4, 3, 8]]"
   ]
  },
  {
   "cell_type": "markdown",
   "id": "b871a572",
   "metadata": {},
   "source": [
    "KNNImputer中的超参数与KNN算法一样，n_neighbors为选择“邻居”样本的个数，先试试n_neighbors=1。"
   ]
  },
  {
   "cell_type": "code",
   "execution_count": 8,
   "id": "419b9053",
   "metadata": {},
   "outputs": [
    {
     "data": {
      "text/plain": [
       "array([[ 2.,  4.,  8.],\n",
       "       [ 3.,  4.,  7.],\n",
       "       [ 5.,  8.,  3.],\n",
       "       [14.,  3.,  8.]])"
      ]
     },
     "execution_count": 8,
     "metadata": {},
     "output_type": "execute_result"
    }
   ],
   "source": [
    "imputer = KNNImputer(n_neighbors=1)\n",
    "imputer.fit_transform(data)"
   ]
  },
  {
   "cell_type": "markdown",
   "id": "f3b9e8dc",
   "metadata": {},
   "source": [
    "可以看到，因为第二个样本的第一列特征3和第三列特征7，与第一行样本的第一列特征2和第三列特征8的欧氏距离最近，所以缺失值按照第一个样本来填充，填充值为4。那么n_neighbors=2呢？"
   ]
  },
  {
   "cell_type": "code",
   "execution_count": 9,
   "id": "170e7237",
   "metadata": {},
   "outputs": [
    {
     "data": {
      "text/plain": [
       "array([[ 2.,  4.,  8.],\n",
       "       [ 3.,  6.,  7.],\n",
       "       [ 5.,  8.,  3.],\n",
       "       [14.,  3.,  8.]])"
      ]
     },
     "execution_count": 9,
     "metadata": {},
     "output_type": "execute_result"
    }
   ],
   "source": [
    "imputer = KNNImputer(n_neighbors=2)\n",
    "imputer.fit_transform(data)"
   ]
  },
  {
   "cell_type": "markdown",
   "id": "2666f190",
   "metadata": {},
   "source": [
    "此时根据欧氏距离算出最近相邻的是第一行样本与第四行样本，此时的填充值就是这两个样本第二列特征4和3的均值：3.5。"
   ]
  },
  {
   "cell_type": "markdown",
   "id": "b67b1728",
   "metadata": {},
   "source": [
    "接下来让我们看一个实际案例，该数据集来自Kaggle皮马人糖尿病预测的分类赛题，其中有不少缺失值，我们试试用KNNImputer进行插补。"
   ]
  },
  {
   "cell_type": "code",
   "execution_count": null,
   "id": "2a0ca732",
   "metadata": {},
   "outputs": [],
   "source": [
    "import numpy as np\n",
    "import pandas as pd\n",
    "import ydata_profiling as pp\n",
    "import matplotlib.pyplot as plt\n",
    "import seaborn as sns\n",
    "sns.set(context=\"notebook\", style=\"darkgrid\")\n",
    "import warnings\n",
    "warnings.filterwarnings('ignore')\n",
    "%matplotlib inline\n",
    " \n",
    "from sklearn.impute import KNNImputer"
   ]
  },
  {
   "cell_type": "code",
   "execution_count": null,
   "id": "9956e70b",
   "metadata": {},
   "outputs": [],
   "source": [
    "#Loading the dataset\n",
    "diabetes_data = pd.read_csv('./data/diabetes.csv')\n"
   ]
  },
  {
   "cell_type": "code",
   "execution_count": null,
   "id": "49e9ef9e",
   "metadata": {},
   "outputs": [],
   "source": [
    "diabetes_data.columns = ['Pregnancies', 'Glucose', 'BloodPressure', 'SkinThickness', \n",
    "                        'Insulin', 'BMI', 'DiabetesPedigreeFunction', 'Age', 'Outcome']\n",
    "diabetes_data.head()"
   ]
  },
  {
   "cell_type": "markdown",
   "id": "6e506306",
   "metadata": {},
   "source": [
    "在这个数据集中，0值代表的就是缺失值，所以我们需要先将0转化为nan值然后进行缺失值处理。"
   ]
  },
  {
   "cell_type": "code",
   "execution_count": null,
   "id": "e2b93c5f",
   "metadata": {},
   "outputs": [],
   "source": [
    "diabetes_data_copy = diabetes_data.copy(deep=True)\n",
    "diabetes_data_copy[['Glucose','BloodPressure','SkinThickness','Insulin','BMI']] = diabetes_data_copy[['Glucose','BloodPressure','SkinThickness','Insulin','BMI']].replace(0, np.NaN)\n",
    " \n",
    "print(diabetes_data_copy.isnull().sum())"
   ]
  },
  {
   "cell_type": "markdown",
   "id": "37c42443",
   "metadata": {},
   "source": [
    "下面用DiabetesPedigreeFunction与Age，对BloodPressure中的35个缺失值进行KNNImputer插补。"
   ]
  },
  {
   "cell_type": "code",
   "execution_count": null,
   "id": "887eb9a0",
   "metadata": {},
   "outputs": [],
   "source": [
    "null_index = diabetes_data_copy.loc[diabetes_data_copy['BloodPressure'].isnull(), :].index\n",
    "null_index"
   ]
  },
  {
   "cell_type": "code",
   "execution_count": null,
   "id": "8687f274",
   "metadata": {},
   "outputs": [],
   "source": [
    "imputer = KNNImputer(n_neighbors=10)\n",
    "diabetes_data_copy[['BloodPressure', 'DiabetesPedigreeFunction', 'Age']] = imputer.fit_transform(diabetes_data_copy[['BloodPressure', 'DiabetesPedigreeFunction', 'Age']])\n",
    "print(diabetes_data_copy.isnull().sum())"
   ]
  },
  {
   "cell_type": "markdown",
   "id": "6c142325",
   "metadata": {},
   "source": [
    "可以看到现在BloodPressure中的35个缺失值消失了。我们看看具体填充后的数据"
   ]
  },
  {
   "cell_type": "code",
   "execution_count": null,
   "id": "5a2f6eb9",
   "metadata": {},
   "outputs": [],
   "source": [
    "diabetes_data_copy.iloc[null_index]"
   ]
  },
  {
   "cell_type": "markdown",
   "id": "f5880da6",
   "metadata": {},
   "source": [
    "到此，BloodPressure中的缺失值已经根据DiabetesPedigreeFunction与Age运用KNNImputer填充完成了。注意的是，对于非数值型特征需要先转换为数值型特征再进行KNNImputer填充操作，因为目前KNNImputer方法只支持数值型特征"
   ]
  },
  {
   "cell_type": "code",
   "execution_count": null,
   "id": "cacf2ca0",
   "metadata": {},
   "outputs": [],
   "source": [
    "imputer = KNNImputer(n_neighbors=10)\n",
    "diabetes_data_copy[['SkinThickness', 'DiabetesPedigreeFunction', 'Age']] = imputer.fit_transform(diabetes_data_copy[['SkinThickness', 'DiabetesPedigreeFunction', 'Age']])\n",
    "print(diabetes_data_copy.isnull().sum())"
   ]
  },
  {
   "cell_type": "code",
   "execution_count": null,
   "id": "51aec02f",
   "metadata": {},
   "outputs": [],
   "source": []
  }
 ],
 "metadata": {
  "kernelspec": {
   "display_name": "Python 3 (ipykernel)",
   "language": "python",
   "name": "python3"
  },
  "language_info": {
   "codemirror_mode": {
    "name": "ipython",
    "version": 3
   },
   "file_extension": ".py",
   "mimetype": "text/x-python",
   "name": "python",
   "nbconvert_exporter": "python",
   "pygments_lexer": "ipython3",
   "version": "3.8.17"
  }
 },
 "nbformat": 4,
 "nbformat_minor": 5
}
