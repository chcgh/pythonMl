{
 "cells": [
  {
   "cell_type": "code",
   "execution_count": null,
   "id": "b2280d8e",
   "metadata": {},
   "outputs": [],
   "source": [
    "from collections import Counter \n",
    "from imblearn.under_sampling import CondensedNearestNeighbour "
   ]
  },
  {
   "cell_type": "markdown",
   "id": "6f921907",
   "metadata": {},
   "source": [
    "### 第1种数据集加载方式：网上下载"
   ]
  },
  {
   "cell_type": "code",
   "execution_count": null,
   "id": "3035dbe1",
   "metadata": {},
   "outputs": [],
   "source": [
    "from sklearn.datasets import fetch_openml\n",
    "pima = fetch_openml('diabetes', version='1', parser='auto')\n",
    "X, y = pima['data'], pima['target'] \n",
    "print('Original dataset shape %s' % Counter(y)) "
   ]
  },
  {
   "cell_type": "markdown",
   "id": "d383e0ec",
   "metadata": {},
   "source": [
    "### 第2种数据集加载方式：本地加载"
   ]
  },
  {
   "cell_type": "code",
   "execution_count": null,
   "id": "383d8ada",
   "metadata": {},
   "outputs": [],
   "source": [
    "import pandas as pd\n",
    "data=pd.read_csv('./datas/diabetes.csv')\n",
    "X=data.iloc[:,:-1]\n",
    "y=data.iloc[:,-1]\n",
    "print('Original dataset shape %s' % Counter(y)) "
   ]
  },
  {
   "cell_type": "code",
   "execution_count": null,
   "id": "00d635a0",
   "metadata": {},
   "outputs": [],
   "source": [
    "data.head(10)"
   ]
  },
  {
   "cell_type": "code",
   "execution_count": null,
   "id": "b7a70db3",
   "metadata": {},
   "outputs": [],
   "source": [
    "data.groupby('Class').size()"
   ]
  },
  {
   "cell_type": "code",
   "execution_count": null,
   "id": "1a6f23ea",
   "metadata": {},
   "outputs": [],
   "source": [
    "cnn = CondensedNearestNeighbour(random_state=42) \n",
    "X_res, y_res = cnn.fit_resample(X, y) \n",
    "print('Resampled dataset shape %s' % Counter(y_res)) "
   ]
  },
  {
   "cell_type": "code",
   "execution_count": null,
   "id": "4da8c720",
   "metadata": {},
   "outputs": [],
   "source": []
  }
 ],
 "metadata": {
  "kernelspec": {
   "display_name": "Python 3 (ipykernel)",
   "language": "python",
   "name": "python3"
  },
  "language_info": {
   "codemirror_mode": {
    "name": "ipython",
    "version": 3
   },
   "file_extension": ".py",
   "mimetype": "text/x-python",
   "name": "python",
   "nbconvert_exporter": "python",
   "pygments_lexer": "ipython3",
   "version": "3.9.16"
  }
 },
 "nbformat": 4,
 "nbformat_minor": 5
}
