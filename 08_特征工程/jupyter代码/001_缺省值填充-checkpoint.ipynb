{
 "cells": [
  {
   "cell_type": "markdown",
   "metadata": {},
   "source": [
    "## 0.22以后的版本sklearn Imputer 不在preprocessing里了，而是在sklearn.impute里"
   ]
  },
  {
   "cell_type": "code",
   "execution_count": 1,
   "metadata": {},
   "outputs": [],
   "source": [
    "import numpy as np\n",
    "from sklearn.impute import SimpleImputer\n"
   ]
  },
  {
   "cell_type": "code",
   "execution_count": 2,
   "metadata": {},
   "outputs": [],
   "source": [
    "X = [\n",
    "    [2, 2, 4, 1],\n",
    "    [np.nan, 3, 4, 4],\n",
    "    [1, 1, 1, np.nan],\n",
    "    [2, 2, np.nan, 3]\n",
    "]\n",
    "X2 = [\n",
    "    [2, 6, np.nan, 1],\n",
    "    [np.nan, 5, np.nan, 1],\n",
    "    [4, 1, np.nan, 5],\n",
    "    [np.nan, np.nan, np.nan, 1]\n",
    "]"
   ]
  },
  {
   "cell_type": "code",
   "execution_count": 3,
   "metadata": {},
   "outputs": [
    {
     "name": "stdout",
     "output_type": "stream",
     "text": [
      "[[2.         2.         4.         1.        ]\n",
      " [1.66666667 3.         4.         4.        ]\n",
      " [1.         1.         1.         2.66666667]\n",
      " [2.         2.         3.         3.        ]]\n",
      "[1.66666667 2.         3.         2.66666667]\n"
     ]
    }
   ],
   "source": [
    "# 按照列进行填充值的计算（计算每个特征属性的填充值）(一般使用这种填充方式)\n",
    "imp1 = SimpleImputer(missing_values=np.nan, strategy='mean')\n",
    "# 如果以列进行数据填充的时候，是计算每个特征属性的填充值分别是什么\n",
    "# imp1.fit(X)\n",
    "# print(imp1.statistics_)\n",
    "# print(imp1.transform(X))\n",
    "print(imp1.fit_transform(X))\n",
    "print(imp1.statistics_)"
   ]
  },
  {
   "cell_type": "code",
   "execution_count": 4,
   "metadata": {},
   "outputs": [
    {
     "name": "stdout",
     "output_type": "stream",
     "text": [
      "[[2.         6.         3.         1.        ]\n",
      " [1.66666667 5.         3.         1.        ]\n",
      " [4.         1.         3.         5.        ]\n",
      " [1.66666667 2.         3.         1.        ]]\n"
     ]
    }
   ],
   "source": [
    "print(imp1.transform(X2))"
   ]
  },
  {
   "cell_type": "code",
   "execution_count": 5,
   "metadata": {},
   "outputs": [
    {
     "name": "stdout",
     "output_type": "stream",
     "text": [
      "[1.66666667 2.         3.         2.66666667]\n",
      "[2. 2. 4. 3.]\n",
      "[2. 2. 4. 1.]\n"
     ]
    }
   ],
   "source": [
    "imp1 = SimpleImputer(missing_values=np.nan, strategy='mean')\n",
    "imp2 = SimpleImputer(missing_values=np.nan, strategy='median')\n",
    "imp3 = SimpleImputer(missing_values=np.nan, strategy='most_frequent')\n",
    "imp1.fit(X)\n",
    "imp2.fit(X)\n",
    "imp3.fit(X)\n",
    "print(imp1.statistics_)\n",
    "print(imp2.statistics_)\n",
    "print(imp3.statistics_)"
   ]
  },
  {
   "cell_type": "code",
   "execution_count": 6,
   "metadata": {},
   "outputs": [
    {
     "data": {
      "text/plain": [
       "array([[2., 2., 4., 1.],\n",
       "       [1., 3., 4., 4.],\n",
       "       [1., 1., 1., 1.],\n",
       "       [2., 2., 1., 3.]])"
      ]
     },
     "execution_count": 6,
     "metadata": {},
     "output_type": "execute_result"
    }
   ],
   "source": [
    "# 按常数填充\n",
    "imp4 = SimpleImputer(missing_values=np.nan, strategy='constant',fill_value=1)\n",
    "imp4.fit_transform(X)"
   ]
  },
  {
   "cell_type": "code",
   "execution_count": 7,
   "metadata": {},
   "outputs": [
    {
     "name": "stdout",
     "output_type": "stream",
     "text": [
      "[[2, 2, 4, 1], [nan, 3, 4, 4], [1, 1, 1, nan], [2, 2, nan, 3]]\n",
      "[[2, 6, nan, 1], [nan, 5, nan, 1], [4, 1, nan, 5], [nan, nan, nan, 1]]\n",
      "--------------------------\n",
      "[[2.         6.         3.         1.        ]\n",
      " [1.66666667 5.         3.         1.        ]\n",
      " [4.         1.         3.         5.        ]\n",
      " [1.66666667 2.         3.         1.        ]]\n",
      "--------------------------\n",
      "[[2. 6. 4. 1.]\n",
      " [2. 5. 4. 1.]\n",
      " [4. 1. 4. 5.]\n",
      " [2. 2. 4. 1.]]\n",
      "--------------------------\n",
      "[[2. 6. 4. 1.]\n",
      " [2. 5. 4. 1.]\n",
      " [4. 1. 4. 5.]\n",
      " [2. 2. 4. 1.]]\n"
     ]
    }
   ],
   "source": [
    "print(X)\n",
    "print (X2)\n",
    "print (\"--------------------------\")\n",
    "print (imp1.transform(X2))\n",
    "print (\"--------------------------\")\n",
    "print (imp2.transform(X2))\n",
    "print (\"--------------------------\")\n",
    "print (imp3.transform(X2))"
   ]
  },
  {
   "cell_type": "markdown",
   "metadata": {},
   "source": [
    "## 0.22以后的版本sklearn Imputer 不在preprocessing里了，而是在sklearn.impute里"
   ]
  },
  {
   "cell_type": "code",
   "execution_count": 8,
   "metadata": {},
   "outputs": [
    {
     "ename": "ImportError",
     "evalue": "cannot import name 'Imputer' from 'sklearn.preprocessing' (D:\\anaconda3\\lib\\site-packages\\sklearn\\preprocessing\\__init__.py)",
     "output_type": "error",
     "traceback": [
      "\u001b[1;31m---------------------------------------------------------------------------\u001b[0m",
      "\u001b[1;31mImportError\u001b[0m                               Traceback (most recent call last)",
      "Input \u001b[1;32mIn [8]\u001b[0m, in \u001b[0;36m<cell line: 2>\u001b[1;34m()\u001b[0m\n\u001b[0;32m      1\u001b[0m \u001b[38;5;28;01mimport\u001b[39;00m \u001b[38;5;21;01mnumpy\u001b[39;00m \u001b[38;5;28;01mas\u001b[39;00m \u001b[38;5;21;01mnp\u001b[39;00m\n\u001b[1;32m----> 2\u001b[0m \u001b[38;5;28;01mfrom\u001b[39;00m \u001b[38;5;21;01msklearn\u001b[39;00m\u001b[38;5;21;01m.\u001b[39;00m\u001b[38;5;21;01mpreprocessing\u001b[39;00m \u001b[38;5;28;01mimport\u001b[39;00m Imputer\n",
      "\u001b[1;31mImportError\u001b[0m: cannot import name 'Imputer' from 'sklearn.preprocessing' (D:\\anaconda3\\lib\\site-packages\\sklearn\\preprocessing\\__init__.py)"
     ]
    }
   ],
   "source": [
    "import numpy as np\n",
    "from sklearn.preprocessing import Imputer\n"
   ]
  },
  {
   "cell_type": "code",
   "execution_count": null,
   "metadata": {},
   "outputs": [],
   "source": [
    "X = [\n",
    "    [2, 2, 4, 1],\n",
    "    [np.nan, 3, 4, 4],\n",
    "    [1, 1, 1, np.nan],\n",
    "    [2, 2, np.nan, 3]\n",
    "]\n",
    "X2 = [\n",
    "    [2, 6, np.nan, 1],\n",
    "    [np.nan, 5, np.nan, 1],\n",
    "    [4, 1, np.nan, 5],\n",
    "    [np.nan, np.nan, np.nan, 1]\n",
    "]"
   ]
  },
  {
   "cell_type": "code",
   "execution_count": null,
   "metadata": {},
   "outputs": [],
   "source": [
    "# 按照列进行填充值的计算（计算每个特征属性的填充值）(一般使用这种填充方式)\n",
    "imp1 = Imputer(missing_values='NaN', strategy='mean', axis=0)\n",
    "# 按照行计算填充值(计算每个样本的填充值) -- 一般不用\n",
    "#（如果按照行进行填充的话，那么是不需要进行模型fit的，直接使用X的现有的行信息进行填充的）\n",
    "imp2 = Imputer(missing_values='NaN', strategy='mean', axis=1)\n",
    "\n",
    "# 如果以列进行数据填充的时候，是计算每个特征属性的填充值分别是什么\n",
    "imp1.fit(X)\n",
    "# imp2.fit(X) # 因为按照行数据进行填充转换的时候，是不需要计算到底填充值是什么的\n",
    "\n",
    "# 当axis=0的时候，获取每个特征的计算出来的填充值\n",
    "print(imp1.statistics_)\n",
    "print(imp1.transform(X))\n"
   ]
  },
  {
   "cell_type": "code",
   "execution_count": null,
   "metadata": {},
   "outputs": [],
   "source": [
    "print (imp1.transform(X2))\n",
    "print (\"--------------------------\")\n",
    "print (imp2.transform(X2))\n",
    "X2"
   ]
  },
  {
   "cell_type": "code",
   "execution_count": null,
   "metadata": {},
   "outputs": [],
   "source": [
    "imp1 = Imputer(missing_values='NaN', strategy='mean', axis=0)\n",
    "imp2 = Imputer(missing_values='NaN', strategy='median', axis=0)\n",
    "imp3 = Imputer(missing_values='NaN', strategy='most_frequent', axis=0)\n",
    "imp1.fit(X)\n",
    "imp2.fit(X)\n",
    "imp3.fit(X)\n",
    "print(imp1.statistics_)\n",
    "print(imp2.statistics_)\n",
    "print(imp3.statistics_)"
   ]
  },
  {
   "cell_type": "code",
   "execution_count": null,
   "metadata": {},
   "outputs": [],
   "source": [
    "print(X)\n",
    "print (X2)\n",
    "print (\"--------------------------\")\n",
    "print (imp1.transform(X2))\n",
    "print (\"--------------------------\")\n",
    "print (imp2.transform(X2))\n",
    "print (\"--------------------------\")\n",
    "print (imp3.transform(X2))"
   ]
  },
  {
   "cell_type": "markdown",
   "metadata": {
    "collapsed": true
   },
   "source": [
    "# todo：思考：将nan值填充为0怎么填充"
   ]
  },
  {
   "cell_type": "code",
   "execution_count": null,
   "metadata": {},
   "outputs": [],
   "source": []
  },
  {
   "cell_type": "code",
   "execution_count": null,
   "metadata": {},
   "outputs": [],
   "source": []
  }
 ],
 "metadata": {
  "kernelspec": {
   "display_name": "Python 3 (ipykernel)",
   "language": "python",
   "name": "python3"
  },
  "language_info": {
   "codemirror_mode": {
    "name": "ipython",
    "version": 3
   },
   "file_extension": ".py",
   "mimetype": "text/x-python",
   "name": "python",
   "nbconvert_exporter": "python",
   "pygments_lexer": "ipython3",
   "version": "3.9.12"
  }
 },
 "nbformat": 4,
 "nbformat_minor": 2
}
