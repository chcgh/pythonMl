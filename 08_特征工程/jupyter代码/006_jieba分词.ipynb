{
 "cells": [
  {
   "cell_type": "code",
   "execution_count": 1,
   "metadata": {},
   "outputs": [
    {
     "name": "stderr",
     "output_type": "stream",
     "text": [
      "Building prefix dict from the default dictionary ...\n",
      "Loading model from cache C:\\Users\\lq\\AppData\\Local\\Temp\\jieba.cache\n",
      "Loading model cost 0.755 seconds.\n",
      "Prefix dict has been built successfully.\n"
     ]
    }
   ],
   "source": [
    "#引入jieba模块, 默认安装pip install jieba\n",
    "# 集成百度LAC\n",
    "import jieba\n",
    "jieba.initialize() # 初始化分词模型"
   ]
  },
  {
   "cell_type": "code",
   "execution_count": 2,
   "metadata": {
    "scrolled": true
   },
   "outputs": [],
   "source": [
    "# jieba.initialize()"
   ]
  },
  {
   "cell_type": "code",
   "execution_count": 3,
   "metadata": {},
   "outputs": [],
   "source": [
    "# jieba.initialize()"
   ]
  },
  {
   "cell_type": "code",
   "execution_count": 4,
   "metadata": {},
   "outputs": [],
   "source": [
    "# jieba.enable_paddle()"
   ]
  },
  {
   "cell_type": "code",
   "execution_count": 5,
   "metadata": {},
   "outputs": [
    {
     "name": "stdout",
     "output_type": "stream",
     "text": [
      "全模式： 上海/自来/自来水/来自/海上/，/所以/吃/葡萄/不/吐/葡萄/皮\n",
      "精确模式： 上海/自来水/来自/海上/，/所以/吃/葡萄/不吐/葡萄/皮\n",
      "搜索引擎模式 上海/自来/自来水/来自/海上/，/所以/吃/葡萄/不吐/葡萄/皮\n"
     ]
    }
   ],
   "source": [
    "words_a='上海自来水来自海上，所以吃葡萄不吐葡萄皮'\n",
    "seg_a=jieba.cut(words_a,cut_all=True)\n",
    "print(\"全模式：\",\"/\".join(seg_a))\n",
    "seg_b=jieba.cut(words_a)\n",
    "print(\"精确模式：\",\"/\".join(seg_b))\n",
    "seg_c=jieba.cut_for_search(words_a)\n",
    "print(\"搜索引擎模式\",\"/\".join(seg_c))"
   ]
  },
  {
   "cell_type": "code",
   "execution_count": 6,
   "metadata": {},
   "outputs": [
    {
     "data": {
      "text/plain": [
       "<generator object Tokenizer.cut at 0x0000026ADBCCADD0>"
      ]
     },
     "execution_count": 6,
     "metadata": {},
     "output_type": "execute_result"
    }
   ],
   "source": [
    "seg_b"
   ]
  },
  {
   "cell_type": "code",
   "execution_count": 7,
   "metadata": {},
   "outputs": [
    {
     "data": {
      "text/plain": [
       "[]"
      ]
     },
     "execution_count": 7,
     "metadata": {},
     "output_type": "execute_result"
    }
   ],
   "source": [
    "list(seg_b)"
   ]
  },
  {
   "cell_type": "code",
   "execution_count": 8,
   "metadata": {},
   "outputs": [
    {
     "data": {
      "text/plain": [
       "['上海', '自来水', '来自', '海上', '，', '所以', '吃', '葡萄', '不吐', '葡萄', '皮']"
      ]
     },
     "execution_count": 8,
     "metadata": {},
     "output_type": "execute_result"
    }
   ],
   "source": [
    "seg_b=jieba.cut(words_a)\n",
    "list(seg_b)"
   ]
  },
  {
   "cell_type": "code",
   "execution_count": 9,
   "metadata": {},
   "outputs": [
    {
     "data": {
      "text/plain": [
       "[]"
      ]
     },
     "execution_count": 9,
     "metadata": {},
     "output_type": "execute_result"
    }
   ],
   "source": [
    "list(seg_b)"
   ]
  },
  {
   "cell_type": "code",
   "execution_count": 10,
   "metadata": {},
   "outputs": [
    {
     "name": "stdout",
     "output_type": "stream",
     "text": [
      "上海\n",
      "自来水\n",
      "来自\n",
      "海上\n",
      "，\n",
      "所以\n",
      "吃\n",
      "葡萄\n",
      "不吐\n",
      "葡萄\n",
      "皮\n"
     ]
    }
   ],
   "source": [
    "seg_b=jieba.cut(words_a)\n",
    "for i in seg_b:\n",
    "    print(i)\n",
    "    "
   ]
  },
  {
   "cell_type": "code",
   "execution_count": 11,
   "metadata": {},
   "outputs": [
    {
     "data": {
      "text/plain": [
       "['上海', '自来水', '来自', '海上', '，', '所以', '吃', '葡萄', '不吐', '葡萄', '皮']"
      ]
     },
     "execution_count": 11,
     "metadata": {},
     "output_type": "execute_result"
    }
   ],
   "source": [
    "seg_b=jieba.cut(words_a)\n",
    "list(seg_b)"
   ]
  },
  {
   "cell_type": "code",
   "execution_count": 12,
   "metadata": {},
   "outputs": [
    {
     "data": {
      "text/plain": [
       "['上海', '自来水', '来自', '海上', '，', '所以', '吃', '葡萄', '不吐', '葡萄', '皮']"
      ]
     },
     "execution_count": 12,
     "metadata": {},
     "output_type": "execute_result"
    }
   ],
   "source": [
    "seg_b_l = jieba.lcut(words_a)\n",
    "seg_b_l"
   ]
  },
  {
   "cell_type": "code",
   "execution_count": 13,
   "metadata": {},
   "outputs": [
    {
     "data": {
      "text/plain": [
       "['上海', '自来', '自来水', '来自', '海上', '，', '所以', '吃', '葡萄', '不', '吐', '葡萄', '皮']"
      ]
     },
     "execution_count": 13,
     "metadata": {},
     "output_type": "execute_result"
    }
   ],
   "source": [
    "seg_b_l = jieba.lcut(words_a,cut_all=True)\n",
    "seg_b_l"
   ]
  },
  {
   "cell_type": "code",
   "execution_count": 14,
   "metadata": {},
   "outputs": [
    {
     "name": "stdout",
     "output_type": "stream",
     "text": [
      "上海\n",
      "自来水\n",
      "来自\n",
      "海上\n",
      "，\n",
      "所以\n",
      "吃\n",
      "葡萄\n",
      "不吐\n",
      "葡萄\n",
      "皮\n"
     ]
    }
   ],
   "source": [
    "seg_b=jieba.cut(words_a)\n",
    "for w in seg_b:\n",
    "    print(w)"
   ]
  },
  {
   "cell_type": "code",
   "execution_count": 15,
   "metadata": {},
   "outputs": [
    {
     "name": "stdout",
     "output_type": "stream",
     "text": [
      "自定义前： 我/为/机器/学习/疯狂/打/call\n"
     ]
    }
   ],
   "source": [
    "#添加和删除自定义词汇\n",
    "words_a1='我为机器学习疯狂打call'\n",
    "print(\"自定义前：\",\"/\".join(jieba.cut(words_a1)))"
   ]
  },
  {
   "cell_type": "code",
   "execution_count": 16,
   "metadata": {},
   "outputs": [
    {
     "name": "stdout",
     "output_type": "stream",
     "text": [
      "加入‘打call’后： 我/为/机器/学习/疯狂/打call\n"
     ]
    }
   ],
   "source": [
    "# jieba.del_word(\"打call\") # 删除单词，在后续的分词的时候，被删除的不会认为是一个单词\n",
    "jieba.add_word(\"打call\") # 添加单词，在后续的分词中，遇到到的时候，会认为是属于同一个单词\n",
    "print(\"加入‘打call’后：\",\"/\".join(jieba.cut(words_a1)))"
   ]
  },
  {
   "cell_type": "code",
   "execution_count": 17,
   "metadata": {},
   "outputs": [
    {
     "name": "stdout",
     "output_type": "stream",
     "text": [
      "加入‘打call’后： 我/为/机器/学习/疯狂/打/call\n"
     ]
    }
   ],
   "source": [
    "jieba.del_word(\"打call\") # 删除单词，在后续的分词的时候，被删除的不会认为是一个单词\n",
    "print(\"加入‘打call’后：\",\"/\".join(jieba.cut(words_a1)))"
   ]
  },
  {
   "cell_type": "code",
   "execution_count": 18,
   "metadata": {},
   "outputs": [
    {
     "name": "stdout",
     "output_type": "stream",
     "text": [
      "加入‘机器学习’后： 我/为/机器学习/疯狂/打/call\n"
     ]
    }
   ],
   "source": [
    "jieba.add_word(\"机器学习\")\n",
    "print(\"加入‘机器学习’后：\",\"/\".join(jieba.cut(words_a1)))"
   ]
  },
  {
   "cell_type": "code",
   "execution_count": 19,
   "metadata": {},
   "outputs": [
    {
     "name": "stdout",
     "output_type": "stream",
     "text": [
      "加入‘机器学习’后： 我/为/机器学习/疯狂/打/call\n"
     ]
    }
   ],
   "source": [
    "import jieba\n",
    "jieba.initialize()\n",
    "words_a1='我为机器学习疯狂打call'\n",
    "print(\"加入‘机器学习’后：\",\"/\".join(jieba.cut(words_a1)))"
   ]
  },
  {
   "cell_type": "code",
   "execution_count": 20,
   "metadata": {},
   "outputs": [],
   "source": [
    "res = jieba.lcut(\"我为机器学习疯狂《打call》\")"
   ]
  },
  {
   "cell_type": "code",
   "execution_count": 21,
   "metadata": {},
   "outputs": [
    {
     "data": {
      "text/plain": [
       "['我', '为', '机器学习', '疯狂', '《', '打', 'call', '》']"
      ]
     },
     "execution_count": 21,
     "metadata": {},
     "output_type": "execute_result"
    }
   ],
   "source": [
    "res"
   ]
  },
  {
   "cell_type": "code",
   "execution_count": 22,
   "metadata": {},
   "outputs": [
    {
     "data": {
      "text/plain": [
       "['我', '为', '机器学习', '疯狂', '《', '打', 'call', '》']"
      ]
     },
     "execution_count": 22,
     "metadata": {},
     "output_type": "execute_result"
    }
   ],
   "source": [
    "# jieba.del_word(\"打call\") \n",
    "jieba.add_word(\"《打call》\")  # 这里的add_word没有生效\n",
    "# jieba.add_word(\"打call\")\n",
    "res = jieba.lcut(\"我为机器学习疯狂《打call》\")\n",
    "res"
   ]
  },
  {
   "cell_type": "code",
   "execution_count": 23,
   "metadata": {},
   "outputs": [
    {
     "data": {
      "text/plain": [
       "['我', '为', '机器学习', '疯狂', '《', '打', 'call', '》']"
      ]
     },
     "execution_count": 23,
     "metadata": {},
     "output_type": "execute_result"
    }
   ],
   "source": [
    "res"
   ]
  },
  {
   "cell_type": "code",
   "execution_count": 24,
   "metadata": {},
   "outputs": [
    {
     "data": {
      "text/plain": [
       "['我', '为', '机器学习', '疯狂', '《', '打call', '》']"
      ]
     },
     "execution_count": 24,
     "metadata": {},
     "output_type": "execute_result"
    }
   ],
   "source": [
    "jieba.add_word(\"打call\") \n",
    "res = jieba.lcut(\"我为机器学习疯狂《打call》\")\n",
    "res"
   ]
  },
  {
   "cell_type": "code",
   "execution_count": 26,
   "metadata": {},
   "outputs": [
    {
     "data": {
      "text/plain": [
       "['我', '为', '机器', '机器学习', '学习', '疯狂', '《', '打call', '》']"
      ]
     },
     "execution_count": 26,
     "metadata": {},
     "output_type": "execute_result"
    }
   ],
   "source": [
    "jieba.add_word(r\"《打call》\") \n",
    "res = jieba.lcut(\"我为机器学习疯狂《打call》\",cut_all=True)\n",
    "res"
   ]
  },
  {
   "cell_type": "code",
   "execution_count": 27,
   "metadata": {},
   "outputs": [
    {
     "name": "stdout",
     "output_type": "stream",
     "text": [
      "加载自定义词库前： 在/正义者/联盟/的/电影/里/，/嘻哈侠/和/蝙蝠侠/联手/打败/了/大/boss/，/我/高喊/666/，/为/他们/疯狂/打call\n",
      "--------VS--------\n",
      "加载自定义词库后： 在/正义者联盟/的/电影/里/，/嘻哈侠/和/蝙蝠侠/联手/打败/了/大boss/，/我/高喊/666/，/为/他们/疯狂/打call\n"
     ]
    }
   ],
   "source": [
    "#导入自定义词典\n",
    "# jieba.del_word(\"打call\")#删除之前添加的词汇\n",
    "words_a2='在正义者联盟的电影里，嘻哈侠和蝙蝠侠联手打败了大boss，我高喊666，为他们疯狂打call'\n",
    "print(\"加载自定义词库前：\",\"/\".join(jieba.cut(words_a2)))\n",
    "jieba.load_userdict(\"./datas/01mydict.txt\")\n",
    "print(\"--------VS--------\")\n",
    "print(\"加载自定义词库后：\",\"/\".join(jieba.cut(words_a2)))"
   ]
  },
  {
   "cell_type": "code",
   "execution_count": 24,
   "metadata": {},
   "outputs": [
    {
     "name": "stdout",
     "output_type": "stream",
     "text": [
      "['在', '正义者联盟', '的', '电影', '里', '，', '嘻哈侠', '和', '蝙蝠侠', '联手', '打败', '了', '大boss', '，', '我', '高喊', '666', '，', '为', '他们', '疯狂', '打call']\n",
      "['在', '正义者联盟', '的', '电影', '里', '，', '嘻哈侠', '和', '蝙蝠侠', '联手', '打败', '了', '大boss', '，', '我', '高喊', '666', '，', '为', '他们', '疯狂', '打call']\n"
     ]
    }
   ],
   "source": [
    "#获得切词后的数据\n",
    "ls1=[]\n",
    "for item in jieba.cut(words_a2):\n",
    "    ls1.append(item)\n",
    "print(ls1)\n",
    "##用lcut直接获得切词后的list列表数据\n",
    "ls2=jieba.lcut(words_a2)\n",
    "print(ls2)"
   ]
  },
  {
   "cell_type": "code",
   "execution_count": 25,
   "metadata": {},
   "outputs": [
    {
     "name": "stdout",
     "output_type": "stream",
     "text": [
      "如果/放到/post/中将/出错/。\n",
      "如果/放到/post/中将/出错/。\n",
      "--------------------------\n",
      "如果/放到/post/中/将/出错/。\n",
      "如果/放到/post/中/将/出错/。\n",
      "「/台/中/」/正确/应该/不会/被/切开\n",
      "「/台中/」/正确/应该/不会/被/切开\n"
     ]
    }
   ],
   "source": [
    "# 调整词典，关闭HMM发现新词功能(主要在开发过程中使用)\n",
    "print('/'.join(jieba.cut('如果放到post中将出错。', HMM=False)))\n",
    "print('/'.join(jieba.cut('如果放到post中将出错。', HMM=True)))  # 又发现新词的可能性的，不代表一定能发现\n",
    "jieba.suggest_freq(('中', '将'), True)\n",
    "print(\"--------------------------\")\n",
    "print('/'.join(jieba.cut('如果放到post中将出错。', HMM=False)))\n",
    "print('/'.join(jieba.cut('如果放到post中将出错。', HMM=True)))\n",
    "jieba.suggest_freq(('台', '中'), True)\n",
    "print('/'.join(jieba.cut('「台中」正确应该不会被切开', HMM=False)))\n",
    "jieba.suggest_freq('台中', True)\n",
    "print('/'.join(jieba.cut('「台中」正确应该不会被切开', HMM=False)))"
   ]
  },
  {
   "cell_type": "code",
   "execution_count": 26,
   "metadata": {},
   "outputs": [
    {
     "data": {
      "text/plain": [
       "[('蝙蝠侠', 1.1583898043333334),\n",
       " ('正义者联盟', 0.9962306252416666),\n",
       " ('嘻哈侠', 0.9962306252416666),\n",
       " ('大boss', 0.9962306252416666),\n",
       " ('666', 0.9962306252416666)]"
      ]
     },
     "execution_count": 26,
     "metadata": {},
     "output_type": "execute_result"
    }
   ],
   "source": [
    "# 关键词提取\n",
    "# 获取TF-IDF最大的5个单词\n",
    "import jieba.analyse\n",
    "words_a2='在正义者联盟的电影里，嘻哈侠和蝙蝠侠联手打败了大boss，我高喊666，为他们疯狂打call'\n",
    "jieba.analyse.extract_tags(words_a2,topK=5,withWeight=True)"
   ]
  },
  {
   "cell_type": "code",
   "execution_count": null,
   "metadata": {},
   "outputs": [],
   "source": []
  },
  {
   "cell_type": "code",
   "execution_count": null,
   "metadata": {},
   "outputs": [],
   "source": []
  }
 ],
 "metadata": {
  "kernelspec": {
   "display_name": "Python 3 (ipykernel)",
   "language": "python",
   "name": "python3"
  },
  "language_info": {
   "codemirror_mode": {
    "name": "ipython",
    "version": 3
   },
   "file_extension": ".py",
   "mimetype": "text/x-python",
   "name": "python",
   "nbconvert_exporter": "python",
   "pygments_lexer": "ipython3",
   "version": "3.9.12"
  }
 },
 "nbformat": 4,
 "nbformat_minor": 2
}
