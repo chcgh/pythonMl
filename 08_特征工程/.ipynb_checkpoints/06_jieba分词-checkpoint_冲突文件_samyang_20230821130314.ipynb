{
 "cells": [
  {
   "cell_type": "code",
   "execution_count": 1,
   "metadata": {},
   "outputs": [
    {
     "name": "stderr",
     "output_type": "stream",
     "text": [
      "Building prefix dict from the default dictionary ...\n",
      "Dumping model to file cache C:\\Users\\samyang\\AppData\\Local\\Temp\\jieba.cache\n",
      "Loading model cost 1.143 seconds.\n",
      "Prefix dict has been built successfully.\n"
     ]
    }
   ],
   "source": [
    "#引入jieba模块, 默认安装pip install jieba\n",
    "# 集成百度LAC\n",
    "import jieba\n",
    "jieba.initialize() # 初始化分词模型"
   ]
  },
  {
   "cell_type": "code",
   "execution_count": null,
   "metadata": {},
   "outputs": [],
   "source": [
    "# jieba.enable_paddle() #如果要使用百度LAC，需要安装paddle"
   ]
  },
  {
   "cell_type": "code",
   "execution_count": 14,
   "metadata": {},
   "outputs": [
    {
     "name": "stdout",
     "output_type": "stream",
     "text": [
      "精确模式： 北京/清华大学\n",
      "全模式： 北京/清华/清华大学/华大/大学\n",
      "搜索引擎模式： 北京/清华/华大/大学/清华大学\n"
     ]
    }
   ],
   "source": [
    "words_a='北京清华大学'\n",
    "seg_a=jieba.cut(words_a)\n",
    "print(\"精确模式：\",\"/\".join(seg_a)) # 精确模式：把句子拆开就行\n",
    "seg_b=jieba.cut(words_a,cut_all=True)\n",
    "print(\"全模式：\",\"/\".join(seg_b))# 全模式：把所有可能的词语按顺序列出来\n",
    "seg_c=jieba.cut_for_search(words_a)\n",
    "print(\"搜索引擎模式：\",\"/\".join(seg_c))# 搜索引擎模式：把精确模式中的长词，再次按照全模式切分一下"
   ]
  },
  {
   "cell_type": "code",
   "execution_count": 3,
   "metadata": {},
   "outputs": [
    {
     "data": {
      "text/plain": [
       "<generator object Tokenizer.cut at 0x0000013F6C9EAB30>"
      ]
     },
     "execution_count": 3,
     "metadata": {},
     "output_type": "execute_result"
    }
   ],
   "source": [
    "seg_b"
   ]
  },
  {
   "cell_type": "code",
   "execution_count": 4,
   "metadata": {},
   "outputs": [
    {
     "data": {
      "text/plain": [
       "[]"
      ]
     },
     "execution_count": 4,
     "metadata": {},
     "output_type": "execute_result"
    }
   ],
   "source": [
    "list(seg_b)#迭代器上面已经用过了，再转list没有数据"
   ]
  },
  {
   "cell_type": "code",
   "execution_count": 5,
   "metadata": {},
   "outputs": [
    {
     "data": {
      "text/plain": [
       "['上海', '自来水', '来自', '海上', '，', '所以', '吃', '葡萄', '不吐', '葡萄', '皮']"
      ]
     },
     "execution_count": 5,
     "metadata": {},
     "output_type": "execute_result"
    }
   ],
   "source": [
    "seg_b=jieba.cut(words_a)\n",
    "list(seg_b)"
   ]
  },
  {
   "cell_type": "code",
   "execution_count": 6,
   "metadata": {},
   "outputs": [
    {
     "data": {
      "text/plain": [
       "[]"
      ]
     },
     "execution_count": 6,
     "metadata": {},
     "output_type": "execute_result"
    }
   ],
   "source": [
    "list(seg_b)#迭代器上面已经用过了，再转list没有数据"
   ]
  },
  {
   "cell_type": "code",
   "execution_count": 7,
   "metadata": {},
   "outputs": [
    {
     "name": "stdout",
     "output_type": "stream",
     "text": [
      "上海\n",
      "自来水\n",
      "来自\n",
      "海上\n",
      "，\n",
      "所以\n",
      "吃\n",
      "葡萄\n",
      "不吐\n",
      "葡萄\n",
      "皮\n"
     ]
    }
   ],
   "source": [
    "seg_b=jieba.cut(words_a)\n",
    "for i in seg_b:\n",
    "    print(i)\n",
    "    "
   ]
  },
  {
   "cell_type": "code",
   "execution_count": 8,
   "metadata": {},
   "outputs": [
    {
     "data": {
      "text/plain": [
       "['上海', '自来水', '来自', '海上', '，', '所以', '吃', '葡萄', '不吐', '葡萄', '皮']"
      ]
     },
     "execution_count": 8,
     "metadata": {},
     "output_type": "execute_result"
    }
   ],
   "source": [
    "seg_b=jieba.cut(words_a)\n",
    "list(seg_b)"
   ]
  },
  {
   "cell_type": "code",
   "execution_count": 9,
   "metadata": {},
   "outputs": [
    {
     "data": {
      "text/plain": [
       "['上海', '自来水', '来自', '海上', '，', '所以', '吃', '葡萄', '不吐', '葡萄', '皮']"
      ]
     },
     "execution_count": 9,
     "metadata": {},
     "output_type": "execute_result"
    }
   ],
   "source": [
    "#lcut返回一个list而不是上面的迭代器\n",
    "seg_b_l = jieba.lcut(words_a)\n",
    "seg_b_l"
   ]
  },
  {
   "cell_type": "code",
   "execution_count": 10,
   "metadata": {},
   "outputs": [
    {
     "data": {
      "text/plain": [
       "['上海', '自来', '自来水', '来自', '海上', '，', '所以', '吃', '葡萄', '不', '吐', '葡萄', '皮']"
      ]
     },
     "execution_count": 10,
     "metadata": {},
     "output_type": "execute_result"
    }
   ],
   "source": [
    "seg_b_l = jieba.lcut(words_a,cut_all=True)\n",
    "seg_b_l"
   ]
  },
  {
   "cell_type": "code",
   "execution_count": 11,
   "metadata": {},
   "outputs": [
    {
     "name": "stdout",
     "output_type": "stream",
     "text": [
      "上海\n",
      "自来水\n",
      "来自\n",
      "海上\n",
      "，\n",
      "所以\n",
      "吃\n",
      "葡萄\n",
      "不吐\n",
      "葡萄\n",
      "皮\n"
     ]
    }
   ],
   "source": [
    "seg_b=jieba.cut(words_a)\n",
    "for w in seg_b:\n",
    "    print(w)"
   ]
  },
  {
   "cell_type": "code",
   "execution_count": null,
   "metadata": {},
   "outputs": [],
   "source": []
  },
  {
   "cell_type": "code",
   "execution_count": null,
   "metadata": {},
   "outputs": [],
   "source": []
  }
 ],
 "metadata": {
  "kernelspec": {
   "display_name": "Python 3 (ipykernel)",
   "language": "python",
   "name": "python3"
  },
  "language_info": {
   "codemirror_mode": {
    "name": "ipython",
    "version": 3
   },
   "file_extension": ".py",
   "mimetype": "text/x-python",
   "name": "python",
   "nbconvert_exporter": "python",
   "pygments_lexer": "ipython3",
   "version": "3.8.17"
  }
 },
 "nbformat": 4,
 "nbformat_minor": 2
}
