{
 "cells": [
  {
   "cell_type": "code",
   "execution_count": 5,
   "metadata": {},
   "outputs": [],
   "source": [
    "from sklearn.feature_extraction import DictVectorizer"
   ]
  },
  {
   "cell_type": "code",
   "execution_count": 10,
   "metadata": {},
   "outputs": [],
   "source": [
    "data = [{'city': '北京','temperature':0}, \n",
    "        {'city': '上海','temperature':1}, \n",
    "        {'city': '上海','temperature':15}, \n",
    "        {'city': '深圳','temperature':2}]"
   ]
  },
  {
   "cell_type": "code",
   "execution_count": 11,
   "metadata": {},
   "outputs": [
    {
     "name": "stdout",
     "output_type": "stream",
     "text": [
      "返回的结果:\n",
      " [[ 1.  0.  0.  0.]\n",
      " [ 0.  1.  0.  1.]\n",
      " [ 0.  1.  0. 15.]\n",
      " [ 0.  0.  1.  2.]]\n",
      "特征名字：\n",
      " ['city=bj' 'city=sh' 'city=sz' 'temperature']\n"
     ]
    }
   ],
   "source": [
    "# 1、实例化一个转换器类\n",
    "transfer = DictVectorizer(sparse=False)\n",
    "# 2、调用fit_transform\n",
    "data = transfer.fit_transform(data)\n",
    "print(\"返回的结果:\\n\", data)\n",
    "# 打印特征名字\n",
    "print(\"特征名字：\\n\", transfer.get_feature_names_out())"
   ]
  },
  {
   "cell_type": "code",
   "execution_count": null,
   "metadata": {},
   "outputs": [],
   "source": [
    "print(ord('北'))"
   ]
  },
  {
   "cell_type": "code",
   "execution_count": null,
   "metadata": {},
   "outputs": [],
   "source": [
    "print(ord('上'))"
   ]
  },
  {
   "cell_type": "code",
   "execution_count": null,
   "metadata": {},
   "outputs": [],
   "source": [
    "print(ord('深'))"
   ]
  },
  {
   "cell_type": "code",
   "execution_count": null,
   "metadata": {},
   "outputs": [],
   "source": []
  }
 ],
 "metadata": {
  "kernelspec": {
   "display_name": "Python 3 (ipykernel)",
   "language": "python",
   "name": "python3"
  },
  "language_info": {
   "codemirror_mode": {
    "name": "ipython",
    "version": 3
   },
   "file_extension": ".py",
   "mimetype": "text/x-python",
   "name": "python",
   "nbconvert_exporter": "python",
   "pygments_lexer": "ipython3",
   "version": "3.8.17"
  }
 },
 "nbformat": 4,
 "nbformat_minor": 2
}
