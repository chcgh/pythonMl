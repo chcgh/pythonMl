{
 "cells": [
  {
   "cell_type": "code",
   "execution_count": 1,
   "metadata": {},
   "outputs": [],
   "source": [
    "import pandas as pd\n",
    "import numpy as np\n",
    "from sklearn.feature_extraction.text import CountVectorizer,TfidfTransformer,TfidfVectorizer"
   ]
  },
  {
   "cell_type": "code",
   "execution_count": 2,
   "metadata": {},
   "outputs": [],
   "source": [
    "arr1 = [\n",
    "    \"This is spark, spark sql a every good\",\n",
    "    \"Spark Hadoop Hbase\",\n",
    "    \"This is sample\",\n",
    "    \"This is anthor example anthor example\",\n",
    "    \"spark hbase hadoop spark hive hbase hue oozie\",\n",
    "    \"hue oozie spark\"\n",
    "]\n",
    "arr2 = [\n",
    "    \"this is a sample a example\",\n",
    "    \"this  ccc cd is another another sample example example\",\n",
    "    \"spark Hbase hadoop Spark hive hbase\"\n",
    "]\n",
    "df = arr2"
   ]
  },
  {
   "cell_type": "code",
   "execution_count": 3,
   "metadata": {},
   "outputs": [
    {
     "name": "stdout",
     "output_type": "stream",
     "text": [
      "[[0. 0. 0. 1. 0. 0. 0. 1. 1. 0. 1.]\n",
      " [2. 1. 1. 2. 0. 0. 0. 1. 1. 0. 1.]\n",
      " [0. 0. 0. 0. 1. 2. 1. 0. 0. 2. 0.]]\n",
      "['another' 'ccc' 'cd' 'example' 'hadoop' 'hbase' 'hive' 'is' 'sample'\n",
      " 'spark' 'this']\n"
     ]
    }
   ],
   "source": [
    "# 相当于词袋法\n",
    "count = CountVectorizer(min_df=0.1, dtype=np.float64, ngram_range=(0,1))\n",
    "df1 = count.fit_transform(df)\n",
    "print (df1.toarray())\n",
    "print (count.get_feature_names_out())\n",
    "# print (\"转换另外的文档数据\")\n",
    "# print (count.transform(arr1).toarray())"
   ]
  },
  {
   "cell_type": "code",
   "execution_count": 4,
   "metadata": {},
   "outputs": [
    {
     "name": "stdout",
     "output_type": "stream",
     "text": [
      "[[0.         0.         0.         0.5        0.         0.\n",
      "  0.         0.5        0.5        0.         0.5       ]\n",
      " [0.63091809 0.31545904 0.31545904 0.47982947 0.         0.\n",
      "  0.         0.23991473 0.23991473 0.         0.23991473]\n",
      " [0.         0.         0.         0.         0.31622777 0.63245553\n",
      "  0.31622777 0.         0.         0.63245553 0.        ]]\n"
     ]
    }
   ],
   "source": [
    "# 基于TF的值(词袋法)，做一个IDF的转换\n",
    "tfidf_t = TfidfTransformer()\n",
    "df2 = tfidf_t.fit_transform(df1)#df1是上面词袋法的结果\n",
    "print (df2.toarray())\n",
    "# print (\"转换另外的文档数据\")\n",
    "# print (tfidf_t.transform(count.transform(arr1)).toarray())"
   ]
  },
  {
   "cell_type": "code",
   "execution_count": 5,
   "metadata": {},
   "outputs": [
    {
     "name": "stdout",
     "output_type": "stream",
     "text": [
      "[[0.         0.         0.         0.5        0.         0.\n",
      "  0.         0.5        0.5        0.         0.5       ]\n",
      " [0.63091809 0.31545904 0.31545904 0.47982947 0.         0.\n",
      "  0.         0.23991473 0.23991473 0.         0.23991473]\n",
      " [0.         0.         0.         0.         0.31622777 0.63245553\n",
      "  0.31622777 0.         0.         0.63245553 0.        ]]\n",
      "['another' 'ccc' 'cd' 'example' 'hadoop' 'hbase' 'hive' 'is' 'sample'\n",
      " 'spark' 'this']\n"
     ]
    }
   ],
   "source": [
    "## 相当TF+IDF(先做词袋法再做IDF转换)\n",
    "tfidf_v = TfidfVectorizer(min_df=0.1, dtype=np.float64)\n",
    "df3 = tfidf_v.fit_transform(df)\n",
    "print (df3.toarray())\n",
    "# print (tfidf_v.get_feature_names_out())\n",
    "# print (\"转换另外的文档数据\")\n",
    "# print (tfidf_v.transform(arr1).toarray())"
   ]
  },
  {
   "cell_type": "code",
   "execution_count": null,
   "metadata": {},
   "outputs": [],
   "source": []
  }
 ],
 "metadata": {
  "kernelspec": {
   "display_name": "Python 3 (ipykernel)",
   "language": "python",
   "name": "python3"
  },
  "language_info": {
   "codemirror_mode": {
    "name": "ipython",
    "version": 3
   },
   "file_extension": ".py",
   "mimetype": "text/x-python",
   "name": "python",
   "nbconvert_exporter": "python",
   "pygments_lexer": "ipython3",
   "version": "3.8.17"
  }
 },
 "nbformat": 4,
 "nbformat_minor": 2
}
