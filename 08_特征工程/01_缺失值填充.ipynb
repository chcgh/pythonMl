{
 "cells": [
  {
   "cell_type": "code",
   "execution_count": 1,
   "metadata": {},
   "outputs": [],
   "source": [
    "import numpy as np\n",
    "from sklearn.impute import SimpleImputer"
   ]
  },
  {
   "cell_type": "code",
   "execution_count": 2,
   "metadata": {},
   "outputs": [],
   "source": [
    "X = [\n",
    "    [2, 2, 4, 1],\n",
    "    [np.nan, 3, 4, 4],\n",
    "    [1, 1, 1, np.nan],\n",
    "    [2, 2, np.nan, 3]\n",
    "]\n",
    "X2 = [\n",
    "    [2, 6, np.nan, 1],\n",
    "    [np.nan, 5, np.nan, 1],\n",
    "    [4, 1, np.nan, 5],\n",
    "    [np.nan, np.nan, np.nan, 1]\n",
    "]"
   ]
  },
  {
   "cell_type": "code",
   "execution_count": null,
   "metadata": {},
   "outputs": [],
   "source": [
    "# 按照列进行填充值的计算（计算每个特征属性的填充值）(一般使用这种填充方式)\n",
    "imp1 = SimpleImputer(missing_values=np.nan, strategy='mean')\n",
    "# imp1.fit(X)\n",
    "# print(imp1.statistics_)\n",
    "# print(imp1.transform(X))\n",
    "print(imp1.fit_transform(X))\n",
    "print(imp1.statistics_)"
   ]
  },
  {
   "cell_type": "code",
   "execution_count": null,
   "metadata": {},
   "outputs": [],
   "source": [
    "print(imp1.transform(X2))"
   ]
  },
  {
   "cell_type": "code",
   "execution_count": null,
   "metadata": {},
   "outputs": [],
   "source": [
    "imp1 = SimpleImputer(missing_values=np.nan, strategy='mean')\n",
    "imp2 = SimpleImputer(missing_values=np.nan, strategy='median')\n",
    "imp3 = SimpleImputer(missing_values=np.nan, strategy='most_frequent')\n",
    "imp1.fit(X)\n",
    "imp2.fit(X)\n",
    "imp3.fit(X)\n",
    "print(imp1.statistics_)\n",
    "print(imp2.statistics_)\n",
    "print(imp3.statistics_)"
   ]
  },
  {
   "cell_type": "code",
   "execution_count": null,
   "metadata": {},
   "outputs": [],
   "source": [
    "# 按常数填充\n",
    "imp4 = SimpleImputer(missing_values=np.nan, strategy='constant',fill_value=1)\n",
    "imp4.fit_transform(X)"
   ]
  },
  {
   "cell_type": "code",
   "execution_count": null,
   "metadata": {},
   "outputs": [],
   "source": [
    "print(X)\n",
    "print(X2)\n",
    "print(\"--------------------------\")\n",
    "print(imp1.transform(X2))\n",
    "print(\"--------------------------\")\n",
    "print(imp2.transform(X2))\n",
    "print(\"--------------------------\")\n",
    "print(imp3.transform(X2))"
   ]
  },
  {
   "cell_type": "code",
   "execution_count": null,
   "metadata": {},
   "outputs": [],
   "source": [
    "#模型持久化\n",
    "import joblib\n",
    "joblib.dump(imp1,'./imp1.m')"
   ]
  },
  {
   "cell_type": "code",
   "execution_count": 3,
   "metadata": {},
   "outputs": [
    {
     "name": "stdout",
     "output_type": "stream",
     "text": [
      "[[2.         2.         4.         1.        ]\n",
      " [1.66666667 3.         4.         4.        ]\n",
      " [1.         1.         1.         2.66666667]\n",
      " [2.         2.         3.         3.        ]]\n"
     ]
    }
   ],
   "source": [
    "#模型加载\n",
    "import joblib\n",
    "model=joblib.load('./imp1.m')\n",
    "print(model.transform(X))"
   ]
  },
  {
   "cell_type": "code",
   "execution_count": null,
   "metadata": {},
   "outputs": [],
   "source": []
  }
 ],
 "metadata": {
  "kernelspec": {
   "display_name": "Python 3 (ipykernel)",
   "language": "python",
   "name": "python3"
  },
  "language_info": {
   "codemirror_mode": {
    "name": "ipython",
    "version": 3
   },
   "file_extension": ".py",
   "mimetype": "text/x-python",
   "name": "python",
   "nbconvert_exporter": "python",
   "pygments_lexer": "ipython3",
   "version": "3.8.17"
  }
 },
 "nbformat": 4,
 "nbformat_minor": 2
}
