{
 "cells": [
  {
   "cell_type": "code",
   "execution_count": 23,
   "id": "01b57b8e",
   "metadata": {},
   "outputs": [],
   "source": [
    "import matplotlib.pyplot as plt"
   ]
  },
  {
   "cell_type": "markdown",
   "id": "4a7c0477",
   "metadata": {},
   "source": [
    "# 1、未归一化数据的可视化图"
   ]
  },
  {
   "cell_type": "code",
   "execution_count": 25,
   "id": "ab8ee933",
   "metadata": {},
   "outputs": [
    {
     "data": {
      "text/plain": [
       "(0.0, 1000000.0)"
      ]
     },
     "execution_count": 25,
     "metadata": {},
     "output_type": "execute_result"
    },
    {
     "data": {
      "image/png": "[encoded data removed]",
      "text/plain": [
       "<Figure size 640x480 with 1 Axes>"
      ]
     },
     "metadata": {},
     "output_type": "display_data"
    }
   ],
   "source": [
    "x1=[40920,14488,26052,75136,38344,72993,35948,42666,67497,35483]\n",
    "x2=[8.326976,7.153469,1.441871,13.147394,1.669788,10.141740,6.830792,13.276369,8.631577,12.273169]\n",
    "plt.scatter(x1,x2)\n",
    "plt.xlim(0,100000)\n",
    "plt.ylim(0,1000000)\n",
    "# plt.draw()"
   ]
  },
  {
   "cell_type": "markdown",
   "id": "5a554fb8",
   "metadata": {},
   "source": [
    "# 2、归一化的两种方法"
   ]
  },
  {
   "cell_type": "markdown",
   "id": "0012882f",
   "metadata": {},
   "source": [
    "# 2.1、fit_transform的归一化"
   ]
  },
  {
   "cell_type": "code",
   "execution_count": 26,
   "id": "3e06f88d",
   "metadata": {},
   "outputs": [],
   "source": [
    "from sklearn.preprocessing  import MinMaxScaler"
   ]
  },
  {
   "cell_type": "code",
   "execution_count": 27,
   "id": "1f9d36b4",
   "metadata": {},
   "outputs": [],
   "source": [
    "x1=[40920,14488,26052,75136,38344,72993,35948,42666,67497,35483]\n",
    "x2=[8.326976,7.153469,1.441871,13.147394,1.669788,10.141740,6.830792,13.276369,8.631577,12.273169]\n",
    "n_samples=len(x1)"
   ]
  },
  {
   "cell_type": "code",
   "execution_count": 29,
   "id": "b77bffd9",
   "metadata": {},
   "outputs": [],
   "source": [
    "X=[]\n",
    "for i in range(n_samples):\n",
    "    X.append([x1[i],x2[i]])\n",
    "scaler=MinMaxScaler()    "
   ]
  },
  {
   "cell_type": "code",
   "execution_count": 32,
   "id": "470a69c4",
   "metadata": {},
   "outputs": [
    {
     "data": {
      "text/plain": [
       "array([[0.43582641, 0.5817826 ],\n",
       "       [0.        , 0.48262275],\n",
       "       [0.19067405, 0.        ],\n",
       "       [1.        , 0.98910178],\n",
       "       [0.3933518 , 0.0192587 ],\n",
       "       [0.96466495, 0.73512784],\n",
       "       [0.35384514, 0.45535696],\n",
       "       [0.46461549, 1.        ],\n",
       "       [0.87404366, 0.60752099],\n",
       "       [0.34617794, 0.91523088]])"
      ]
     },
     "execution_count": 32,
     "metadata": {},
     "output_type": "execute_result"
    }
   ],
   "source": [
    "X=scaler.fit_transform(X)\n",
    "X"
   ]
  },
  {
   "cell_type": "code",
   "execution_count": 33,
   "id": "725d0015",
   "metadata": {},
   "outputs": [
    {
     "data": {
      "image/png": "[encoded data removed]",
      "text/plain": [
       "<Figure size 640x480 with 1 Axes>"
      ]
     },
     "metadata": {},
     "output_type": "display_data"
    }
   ],
   "source": [
    "for i in range(n_samples):\n",
    "    plt.scatter(X[i][0],X[i][1],color='r')"
   ]
  },
  {
   "cell_type": "markdown",
   "id": "164dcab7",
   "metadata": {},
   "source": [
    "## 2.1、fit(训练)和transform的归一化---分开"
   ]
  },
  {
   "cell_type": "code",
   "execution_count": 39,
   "id": "a71b3709",
   "metadata": {},
   "outputs": [
    {
     "data": {
      "text/html": [
       "<style>#sk-container-id-2 {color: black;background-color: white;}#sk-container-id-2 pre{padding: 0;}#sk-container-id-2 div.sk-toggleable {background-color: white;}#sk-container-id-2 label.sk-toggleable__label {cursor: pointer;display: block;width: 100%;margin-bottom: 0;padding: 0.3em;box-sizing: border-box;text-align: center;}#sk-container-id-2 label.sk-toggleable__label-arrow:before {content: \"▸\";float: left;margin-right: 0.25em;color: #696969;}#sk-container-id-2 label.sk-toggleable__label-arrow:hover:before {color: black;}#sk-container-id-2 div.sk-estimator:hover label.sk-toggleable__label-arrow:before {color: black;}#sk-container-id-2 div.sk-toggleable__content {max-height: 0;max-width: 0;overflow: hidden;text-align: left;background-color: #f0f8ff;}#sk-container-id-2 div.sk-toggleable__content pre {margin: 0.2em;color: black;border-radius: 0.25em;background-color: #f0f8ff;}#sk-container-id-2 input.sk-toggleable__control:checked~div.sk-toggleable__content {max-height: 200px;max-width: 100%;overflow: auto;}#sk-container-id-2 input.sk-toggleable__control:checked~label.sk-toggleable__label-arrow:before {content: \"▾\";}#sk-container-id-2 div.sk-estimator input.sk-toggleable__control:checked~label.sk-toggleable__label {background-color: #d4ebff;}#sk-container-id-2 div.sk-label input.sk-toggleable__control:checked~label.sk-toggleable__label {background-color: #d4ebff;}#sk-container-id-2 input.sk-hidden--visually {border: 0;clip: rect(1px 1px 1px 1px);clip: rect(1px, 1px, 1px, 1px);height: 1px;margin: -1px;overflow: hidden;padding: 0;position: absolute;width: 1px;}#sk-container-id-2 div.sk-estimator {font-family: monospace;background-color: #f0f8ff;border: 1px dotted black;border-radius: 0.25em;box-sizing: border-box;margin-bottom: 0.5em;}#sk-container-id-2 div.sk-estimator:hover {background-color: #d4ebff;}#sk-container-id-2 div.sk-parallel-item::after {content: \"\";width: 100%;border-bottom: 1px solid gray;flex-grow: 1;}#sk-container-id-2 div.sk-label:hover label.sk-toggleable__label {background-color: #d4ebff;}#sk-container-id-2 div.sk-serial::before {content: \"\";position: absolute;border-left: 1px solid gray;box-sizing: border-box;top: 0;bottom: 0;left: 50%;z-index: 0;}#sk-container-id-2 div.sk-serial {display: flex;flex-direction: column;align-items: center;background-color: white;padding-right: 0.2em;padding-left: 0.2em;position: relative;}#sk-container-id-2 div.sk-item {position: relative;z-index: 1;}#sk-container-id-2 div.sk-parallel {display: flex;align-items: stretch;justify-content: center;background-color: white;position: relative;}#sk-container-id-2 div.sk-item::before, #sk-container-id-2 div.sk-parallel-item::before {content: \"\";position: absolute;border-left: 1px solid gray;box-sizing: border-box;top: 0;bottom: 0;left: 50%;z-index: -1;}#sk-container-id-2 div.sk-parallel-item {display: flex;flex-direction: column;z-index: 1;position: relative;background-color: white;}#sk-container-id-2 div.sk-parallel-item:first-child::after {align-self: flex-end;width: 50%;}#sk-container-id-2 div.sk-parallel-item:last-child::after {align-self: flex-start;width: 50%;}#sk-container-id-2 div.sk-parallel-item:only-child::after {width: 0;}#sk-container-id-2 div.sk-dashed-wrapped {border: 1px dashed gray;margin: 0 0.4em 0.5em 0.4em;box-sizing: border-box;padding-bottom: 0.4em;background-color: white;}#sk-container-id-2 div.sk-label label {font-family: monospace;font-weight: bold;display: inline-block;line-height: 1.2em;}#sk-container-id-2 div.sk-label-container {text-align: center;}#sk-container-id-2 div.sk-container {/* jupyter's `normalize.less` sets `[hidden] { display: none; }` but bootstrap.min.css set `[hidden] { display: none !important; }` so we also need the `!important` here to be able to override the default hidden behavior on the sphinx rendered scikit-learn.org. See: https://github.com/scikit-learn/scikit-learn/issues/21755 */display: inline-block !important;position: relative;}#sk-container-id-2 div.sk-text-repr-fallback {display: none;}</style><div id=\"sk-container-id-2\" class=\"sk-top-container\"><div class=\"sk-text-repr-fallback\"><pre>MinMaxScaler()</pre><b>In a Jupyter environment, please rerun this cell to show the HTML representation or trust the notebook. <br />On GitHub, the HTML representation is unable to render, please try loading this page with nbviewer.org.</b></div><div class=\"sk-container\" hidden><div class=\"sk-item\"><div class=\"sk-estimator sk-toggleable\"><input class=\"sk-toggleable__control sk-hidden--visually\" id=\"sk-estimator-id-2\" type=\"checkbox\" checked><label for=\"sk-estimator-id-2\" class=\"sk-toggleable__label sk-toggleable__label-arrow\">MinMaxScaler</label><div class=\"sk-toggleable__content\"><pre>MinMaxScaler()</pre></div></div></div></div></div>"
      ],
      "text/plain": [
       "MinMaxScaler()"
      ]
     },
     "execution_count": 39,
     "metadata": {},
     "output_type": "execute_result"
    }
   ],
   "source": [
    "x1=[40920,14488,26052,75136,38344,72993,35948,42666,67497,35483]\n",
    "x2=[8.326976,7.153469,1.441871,13.147394,1.669788,10.141740,6.830792,13.276369,8.631577,12.273169]\n",
    "n_samples=len(x1)\n",
    "X=[]\n",
    "for i in range(n_samples):\n",
    "    X.append([x1[i],x2[i]]) \n",
    "scaler=MinMaxScaler() ##模型架构+参数\n",
    "scaler=scaler.fit(X)##喂入数据，进行训练\n",
    "scaler##训练出来一个模型"
   ]
  },
  {
   "cell_type": "code",
   "execution_count": 41,
   "id": "97c7b6d8",
   "metadata": {},
   "outputs": [
    {
     "data": {
      "text/plain": [
       "array([[-0.2388795 , -0.07267637],\n",
       "       [-0.23888669, -0.08105525],\n",
       "       [-0.23888355, -0.12183626],\n",
       "       [-0.2388702 , -0.03825842],\n",
       "       [-0.2388802 , -0.12020893],\n",
       "       [-0.23887078, -0.0597189 ],\n",
       "       [-0.23888086, -0.08335918],\n",
       "       [-0.23887903, -0.03733754],\n",
       "       [-0.23887228, -0.07050151],\n",
       "       [-0.23888098, -0.04450042]])"
      ]
     },
     "execution_count": 41,
     "metadata": {},
     "output_type": "execute_result"
    }
   ],
   "source": [
    "X=scaler.transform(X)##在训练好的模型的基础上，向着目标方向转换(计算)\n",
    "X"
   ]
  },
  {
   "cell_type": "code",
   "execution_count": 42,
   "id": "47f7dcc0",
   "metadata": {},
   "outputs": [
    {
     "data": {
      "image/png": "[encoded data removed]",
      "text/plain": [
       "<Figure size 640x480 with 1 Axes>"
      ]
     },
     "metadata": {},
     "output_type": "display_data"
    }
   ],
   "source": [
    "for i in range(n_samples):\n",
    "    plt.scatter(X[i][0],X[i][1],color='r')"
   ]
  },
  {
   "cell_type": "markdown",
   "id": "2cdba2e0",
   "metadata": {},
   "source": [
    "# 3.图像和上述处理都一样，但坐标不一样"
   ]
  },
  {
   "cell_type": "code",
   "execution_count": 20,
   "id": "5725fc05",
   "metadata": {},
   "outputs": [
    {
     "data": {
      "text/plain": [
       "<matplotlib.collections.PathCollection at 0x1a381d3fb20>"
      ]
     },
     "execution_count": 20,
     "metadata": {},
     "output_type": "execute_result"
    },
    {
     "data": {
      "image/png": "[encoded data removed]",
      "text/plain": [
       "<Figure size 640x480 with 1 Axes>"
      ]
     },
     "metadata": {},
     "output_type": "display_data"
    }
   ],
   "source": [
    "x1=[40920,14488,26052,75136,38344,72993,35948,42666,67497,35483]\n",
    "x2=[8.326976,7.153469,1.441871,13.147394,1.669788,10.141740,6.830792,13.276369,8.631577,12.273169]\n",
    "plt.scatter(x1,x2)"
   ]
  },
  {
   "cell_type": "markdown",
   "id": "cdd17773",
   "metadata": {},
   "source": [
    "# 4.Z-score归一化方法分开"
   ]
  },
  {
   "cell_type": "code",
   "execution_count": 51,
   "id": "b9ac19cb",
   "metadata": {},
   "outputs": [],
   "source": [
    "from sklearn.preprocessing import StandardScaler"
   ]
  },
  {
   "cell_type": "code",
   "execution_count": 55,
   "id": "b2af74ad",
   "metadata": {},
   "outputs": [
    {
     "data": {
      "text/html": [
       "<style>#sk-container-id-5 {color: black;background-color: white;}#sk-container-id-5 pre{padding: 0;}#sk-container-id-5 div.sk-toggleable {background-color: white;}#sk-container-id-5 label.sk-toggleable__label {cursor: pointer;display: block;width: 100%;margin-bottom: 0;padding: 0.3em;box-sizing: border-box;text-align: center;}#sk-container-id-5 label.sk-toggleable__label-arrow:before {content: \"▸\";float: left;margin-right: 0.25em;color: #696969;}#sk-container-id-5 label.sk-toggleable__label-arrow:hover:before {color: black;}#sk-container-id-5 div.sk-estimator:hover label.sk-toggleable__label-arrow:before {color: black;}#sk-container-id-5 div.sk-toggleable__content {max-height: 0;max-width: 0;overflow: hidden;text-align: left;background-color: #f0f8ff;}#sk-container-id-5 div.sk-toggleable__content pre {margin: 0.2em;color: black;border-radius: 0.25em;background-color: #f0f8ff;}#sk-container-id-5 input.sk-toggleable__control:checked~div.sk-toggleable__content {max-height: 200px;max-width: 100%;overflow: auto;}#sk-container-id-5 input.sk-toggleable__control:checked~label.sk-toggleable__label-arrow:before {content: \"▾\";}#sk-container-id-5 div.sk-estimator input.sk-toggleable__control:checked~label.sk-toggleable__label {background-color: #d4ebff;}#sk-container-id-5 div.sk-label input.sk-toggleable__control:checked~label.sk-toggleable__label {background-color: #d4ebff;}#sk-container-id-5 input.sk-hidden--visually {border: 0;clip: rect(1px 1px 1px 1px);clip: rect(1px, 1px, 1px, 1px);height: 1px;margin: -1px;overflow: hidden;padding: 0;position: absolute;width: 1px;}#sk-container-id-5 div.sk-estimator {font-family: monospace;background-color: #f0f8ff;border: 1px dotted black;border-radius: 0.25em;box-sizing: border-box;margin-bottom: 0.5em;}#sk-container-id-5 div.sk-estimator:hover {background-color: #d4ebff;}#sk-container-id-5 div.sk-parallel-item::after {content: \"\";width: 100%;border-bottom: 1px solid gray;flex-grow: 1;}#sk-container-id-5 div.sk-label:hover label.sk-toggleable__label {background-color: #d4ebff;}#sk-container-id-5 div.sk-serial::before {content: \"\";position: absolute;border-left: 1px solid gray;box-sizing: border-box;top: 0;bottom: 0;left: 50%;z-index: 0;}#sk-container-id-5 div.sk-serial {display: flex;flex-direction: column;align-items: center;background-color: white;padding-right: 0.2em;padding-left: 0.2em;position: relative;}#sk-container-id-5 div.sk-item {position: relative;z-index: 1;}#sk-container-id-5 div.sk-parallel {display: flex;align-items: stretch;justify-content: center;background-color: white;position: relative;}#sk-container-id-5 div.sk-item::before, #sk-container-id-5 div.sk-parallel-item::before {content: \"\";position: absolute;border-left: 1px solid gray;box-sizing: border-box;top: 0;bottom: 0;left: 50%;z-index: -1;}#sk-container-id-5 div.sk-parallel-item {display: flex;flex-direction: column;z-index: 1;position: relative;background-color: white;}#sk-container-id-5 div.sk-parallel-item:first-child::after {align-self: flex-end;width: 50%;}#sk-container-id-5 div.sk-parallel-item:last-child::after {align-self: flex-start;width: 50%;}#sk-container-id-5 div.sk-parallel-item:only-child::after {width: 0;}#sk-container-id-5 div.sk-dashed-wrapped {border: 1px dashed gray;margin: 0 0.4em 0.5em 0.4em;box-sizing: border-box;padding-bottom: 0.4em;background-color: white;}#sk-container-id-5 div.sk-label label {font-family: monospace;font-weight: bold;display: inline-block;line-height: 1.2em;}#sk-container-id-5 div.sk-label-container {text-align: center;}#sk-container-id-5 div.sk-container {/* jupyter's `normalize.less` sets `[hidden] { display: none; }` but bootstrap.min.css set `[hidden] { display: none !important; }` so we also need the `!important` here to be able to override the default hidden behavior on the sphinx rendered scikit-learn.org. See: https://github.com/scikit-learn/scikit-learn/issues/21755 */display: inline-block !important;position: relative;}#sk-container-id-5 div.sk-text-repr-fallback {display: none;}</style><div id=\"sk-container-id-5\" class=\"sk-top-container\"><div class=\"sk-text-repr-fallback\"><pre>StandardScaler()</pre><b>In a Jupyter environment, please rerun this cell to show the HTML representation or trust the notebook. <br />On GitHub, the HTML representation is unable to render, please try loading this page with nbviewer.org.</b></div><div class=\"sk-container\" hidden><div class=\"sk-item\"><div class=\"sk-estimator sk-toggleable\"><input class=\"sk-toggleable__control sk-hidden--visually\" id=\"sk-estimator-id-5\" type=\"checkbox\" checked><label for=\"sk-estimator-id-5\" class=\"sk-toggleable__label sk-toggleable__label-arrow\">StandardScaler</label><div class=\"sk-toggleable__content\"><pre>StandardScaler()</pre></div></div></div></div></div>"
      ],
      "text/plain": [
       "StandardScaler()"
      ]
     },
     "execution_count": 55,
     "metadata": {},
     "output_type": "execute_result"
    }
   ],
   "source": [
    "x1=[40920,14488,26052,75136,38344,72993,35948,42666,67497,35483]\n",
    "x2=[8.326976,7.153469,1.441871,13.147394,1.669788,10.141740,6.830792,13.276369,8.631577,12.273169]\n",
    "n_samples=len(x1)\n",
    "X=[]\n",
    "for i in range(n_samples):\n",
    "    X.append([x1[i],x2[i]]) \n",
    "scaler=StandardScaler() ##模型架构+参数\n",
    "scaler_Z=scaler.fit(X)##喂入数据，进行训练\n",
    "scaler_Z##训练出来一个模型"
   ]
  },
  {
   "cell_type": "code",
   "execution_count": 56,
   "id": "719fdbb9",
   "metadata": {},
   "outputs": [
    {
     "data": {
      "text/plain": [
       "array([[-0.20889502,  0.00935662],\n",
       "       [-1.57808022, -0.28218929],\n",
       "       [-0.9790617 , -1.70117788],\n",
       "       [ 1.56350362,  1.20694057],\n",
       "       [-0.34233256, -1.64455421],\n",
       "       [ 1.45249561,  0.46021632],\n",
       "       [-0.46644605, -0.36235512],\n",
       "       [-0.11845172,  1.2389831 ],\n",
       "       [ 1.16780122,  0.08503165],\n",
       "       [-0.49053318,  0.98974824]])"
      ]
     },
     "execution_count": 56,
     "metadata": {},
     "output_type": "execute_result"
    }
   ],
   "source": [
    "X=scaler_Z.transform(X)##在训练好的模型的基础上，向着目标方向转换(计算)\n",
    "X"
   ]
  },
  {
   "cell_type": "code",
   "execution_count": 63,
   "id": "80164d1d",
   "metadata": {},
   "outputs": [
    {
     "data": {
      "image/png": "[encoded data removed]",
      "text/plain": [
       "<Figure size 640x480 with 1 Axes>"
      ]
     },
     "metadata": {},
     "output_type": "display_data"
    }
   ],
   "source": [
    "for i in range(n_samples):\n",
    "    plt.scatter(X[i][0],X[i][1],color='r')"
   ]
  },
  {
   "cell_type": "markdown",
   "id": "022e0b36",
   "metadata": {},
   "source": [
    "# 4.2、Z-score归一化方法不分开"
   ]
  },
  {
   "cell_type": "code",
   "execution_count": 66,
   "id": "84fbcf2d",
   "metadata": {},
   "outputs": [],
   "source": [
    "##z-score标准化是将数据按比例缩放，使之落入一个特定区间。 要求：均值 μ = 0 ，σ = 1"
   ]
  },
  {
   "cell_type": "code",
   "execution_count": 67,
   "id": "10b1d16b",
   "metadata": {},
   "outputs": [
    {
     "data": {
      "text/plain": [
       "array([[-0.20889502,  0.00935662],\n",
       "       [-1.57808022, -0.28218929],\n",
       "       [-0.9790617 , -1.70117788],\n",
       "       [ 1.56350362,  1.20694057],\n",
       "       [-0.34233256, -1.64455421],\n",
       "       [ 1.45249561,  0.46021632],\n",
       "       [-0.46644605, -0.36235512],\n",
       "       [-0.11845172,  1.2389831 ],\n",
       "       [ 1.16780122,  0.08503165],\n",
       "       [-0.49053318,  0.98974824]])"
      ]
     },
     "execution_count": 67,
     "metadata": {},
     "output_type": "execute_result"
    }
   ],
   "source": [
    "x1=[40920,14488,26052,75136,38344,72993,35948,42666,67497,35483]\n",
    "x2=[8.326976,7.153469,1.441871,13.147394,1.669788,10.141740,6.830792,13.276369,8.631577,12.273169]\n",
    "n_samples=len(x1)\n",
    "X=[]\n",
    "for i in range(n_samples):\n",
    "    X.append([x1[i],x2[i]]) \n",
    "scaler=StandardScaler() ##模型架构+参数\n",
    "X=scaler.fit_transform(X)##喂入数据，进行训练\n",
    "X"
   ]
  },
  {
   "cell_type": "code",
   "execution_count": 68,
   "id": "ccbcda3e",
   "metadata": {},
   "outputs": [
    {
     "data": {
      "image/png": "[encoded data removed]",
      "text/plain": [
       "<Figure size 640x480 with 1 Axes>"
      ]
     },
     "metadata": {},
     "output_type": "display_data"
    }
   ],
   "source": [
    "for i in range(n_samples):\n",
    "    plt.scatter(X[i][0],X[i][1],color='r')"
   ]
  },
  {
   "cell_type": "code",
   "execution_count": null,
   "id": "35aec7ae",
   "metadata": {},
   "outputs": [],
   "source": []
  },
  {
   "cell_type": "code",
   "execution_count": null,
   "id": "51e14ce2",
   "metadata": {},
   "outputs": [],
   "source": []
  }
 ],
 "metadata": {
  "kernelspec": {
   "display_name": "Python 3 (ipykernel)",
   "language": "python",
   "name": "python3"
  },
  "language_info": {
   "codemirror_mode": {
    "name": "ipython",
    "version": 3
   },
   "file_extension": ".py",
   "mimetype": "text/x-python",
   "name": "python",
   "nbconvert_exporter": "python",
   "pygments_lexer": "ipython3",
   "version": "3.8.17"
  }
 },
 "nbformat": 4,
 "nbformat_minor": 5
}
