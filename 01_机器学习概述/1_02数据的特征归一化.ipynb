{
 "cells": [
  {
   "cell_type": "code",
   "id": "f841d1ca",
   "metadata": {},
   "source": [
    "import matplotlib.pyplot as plt"
   ],
   "outputs": [],
   "execution_count": null
  },
  {
   "cell_type": "code",
   "id": "01901071",
   "metadata": {},
   "source": [
    "x1 = [40920,14488,26052,75136,38344,72993,35948,42666,67497,35483]\n",
    "x2 = [8.326976,7.153469,1.441871,13.147394,1.669788,10.141740,6.830792,13.276369,8.631577,12.273169]\n",
    "plt.scatter(x1,x2)\n",
    "plt.xlim(0,100000)\n",
    "plt.ylim(0,100000)\n",
    "plt.draw()"
   ],
   "outputs": [],
   "execution_count": null
  },
  {
   "cell_type": "code",
   "id": "367ea682",
   "metadata": {},
   "source": [
    "from sklearn.preprocessing import MinMaxScaler\n",
    "x1 = [40920,14488,26052,75136,38344,72993,35948,42666,67497,35483]\n",
    "x2 = [8.326976,7.153469,1.441871,13.147394,1.669788,10.141740,6.830792,13.276369,8.631577,12.273169]\n",
    "n_samples=len(x1)\n",
    "X=[]\n",
    "for i in range(n_samples):\n",
    "    X.append([x1[i],x2[i]])\n",
    "scaler= MinMaxScaler()\n",
    "X= scaler.fit_transform(X)\n",
    "\n",
    "# fit_transform可以分解成下面两步\n",
    "# scaler = scaler.fit(X) # 训练\n",
    "# X = scaler.transform(X) # 转换\n",
    "\n",
    "for i in range(n_samples):\n",
    "    plt.scatter(X[i][0],X[i][1],color='r')\n"
   ],
   "outputs": [],
   "execution_count": null
  },
  {
   "cell_type": "code",
   "id": "a4b54d61",
   "metadata": {},
   "source": [],
   "outputs": [],
   "execution_count": null
  }
 ],
 "metadata": {
  "kernelspec": {
   "display_name": "Python 3 (ipykernel)",
   "language": "python",
   "name": "python3"
  },
  "language_info": {
   "codemirror_mode": {
    "name": "ipython",
    "version": 3
   },
   "file_extension": ".py",
   "mimetype": "text/x-python",
   "name": "python",
   "nbconvert_exporter": "python",
   "pygments_lexer": "ipython3",
   "version": "3.8.17"
  }
 },
 "nbformat": 4,
 "nbformat_minor": 5
}
