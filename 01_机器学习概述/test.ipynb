{
 "cells": [
  {
   "cell_type": "code",
   "id": "91151e11-f6d1-4a13-b3da-d0a1dbb64842",
   "metadata": {
    "ExecuteTime": {
     "end_time": "2024-10-16T01:46:31.958978Z",
     "start_time": "2024-10-16T01:46:31.635686Z"
    }
   },
   "source": [
    "import numpy as np\n",
    "print('hello world')"
   ],
   "outputs": [
    {
     "name": "stdout",
     "output_type": "stream",
     "text": [
      "hello world\n"
     ]
    }
   ],
   "execution_count": 2
  },
  {
   "cell_type": "code",
   "id": "eea233b7-bf59-4beb-8df1-0495872fbc31",
   "metadata": {
    "ExecuteTime": {
     "end_time": "2024-10-16T01:46:39.055213Z",
     "start_time": "2024-10-16T01:46:39.049227Z"
    }
   },
   "source": [
    "n = 3\n",
    "print(n)"
   ],
   "outputs": [
    {
     "name": "stdout",
     "output_type": "stream",
     "text": [
      "3\n"
     ]
    }
   ],
   "execution_count": 5
  },
  {
   "metadata": {
    "ExecuteTime": {
     "end_time": "2024-10-16T01:46:44.658271Z",
     "start_time": "2024-10-16T01:46:44.648298Z"
    }
   },
   "cell_type": "code",
   "source": [
    "n+=4\n",
    "print(n)"
   ],
   "id": "71795022-dd2b-4fa0-b6fe-51a69106fc56",
   "outputs": [
    {
     "name": "stdout",
     "output_type": "stream",
     "text": [
      "11\n"
     ]
    }
   ],
   "execution_count": 7
  },
  {
   "cell_type": "code",
   "id": "f4befa92-19fb-4ea8-86b8-73de7e76bfd4",
   "metadata": {
    "ExecuteTime": {
     "end_time": "2024-10-16T01:46:44.860722Z",
     "start_time": "2024-10-16T01:46:44.847757Z"
    }
   },
   "source": [],
   "outputs": [],
   "execution_count": null
  },
  {
   "cell_type": "code",
   "id": "39e662e1-9525-4c4d-91d6-d2f2298ebdff",
   "metadata": {
    "ExecuteTime": {
     "end_time": "2024-10-16T01:46:45.091636Z",
     "start_time": "2024-10-16T01:46:45.088642Z"
    }
   },
   "source": [],
   "outputs": [],
   "execution_count": null
  }
 ],
 "metadata": {
  "kernelspec": {
   "display_name": "Python 3 (ipykernel)",
   "language": "python",
   "name": "python3"
  },
  "language_info": {
   "codemirror_mode": {
    "name": "ipython",
    "version": 3
   },
   "file_extension": ".py",
   "mimetype": "text/x-python",
   "name": "python",
   "nbconvert_exporter": "python",
   "pygments_lexer": "ipython3",
   "version": "3.8.18"
  }
 },
 "nbformat": 4,
 "nbformat_minor": 5
}
